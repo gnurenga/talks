{
 "cells": [
  {
   "cell_type": "markdown",
   "id": "2341d344",
   "metadata": {},
   "source": [
    "## Novice with Metaprogramming - Decorates with Decorators \n"
   ]
  },
  {
   "cell_type": "markdown",
   "id": "df3c4702",
   "metadata": {},
   "source": [
    "## About me\n",
    "\n",
    "* Rengaraj\n",
    "* Work for Intelsat\n",
    "* Mainly use python in writing tools to analyse Deep packet inspection logs\n",
    "* Used python in device interfacing and testing in the past\n"
   ]
  },
  {
   "cell_type": "markdown",
   "id": "4d04fe89",
   "metadata": {},
   "source": [
    "## Setting the expectation for this talk\n",
    "\n",
    "* This talk is for people who want to learn new apart from regular python\n",
    "* Beginners\n",
    "* It is an experiment in my learning journey\n",
    "* I want to share what I learnt.\n"
   ]
  },
  {
   "cell_type": "markdown",
   "id": "4323c3c3",
   "metadata": {},
   "source": [
    "## Recap Functions\n"
   ]
  },
  {
   "cell_type": "code",
   "execution_count": 1,
   "id": "4aed44cb",
   "metadata": {},
   "outputs": [],
   "source": [
    "## Example\n",
    "def message(msg):\n",
    "    return msg\n",
    "\n"
   ]
  },
  {
   "cell_type": "code",
   "execution_count": 2,
   "id": "a9a453cd",
   "metadata": {},
   "outputs": [
    {
     "data": {
      "text/plain": [
       "'Chennaipy'"
      ]
     },
     "execution_count": 2,
     "metadata": {},
     "output_type": "execute_result"
    }
   ],
   "source": [
    "message(\"Chennaipy\")"
   ]
  },
  {
   "cell_type": "markdown",
   "id": "5f7d9640",
   "metadata": {},
   "source": [
    "## Repeat yourself"
   ]
  },
  {
   "cell_type": "code",
   "execution_count": null,
   "id": "9740202c",
   "metadata": {},
   "outputs": [],
   "source": [
    "## Example\n",
    "def send_message():\n",
    "    print(\"send_message is called\")\n",
    "    \n",
    "def receive_message():\n",
    "    print(\"receive_message is called\")\n",
    "\n"
   ]
  },
  {
   "cell_type": "markdown",
   "id": "02c39ffb",
   "metadata": {},
   "source": [
    "## DRY - Don't Repeat Yoursef"
   ]
  },
  {
   "cell_type": "code",
   "execution_count": 3,
   "id": "80410f46",
   "metadata": {
    "scrolled": true
   },
   "outputs": [
    {
     "data": {
      "text/plain": [
       "function"
      ]
     },
     "execution_count": 3,
     "metadata": {},
     "output_type": "execute_result"
    }
   ],
   "source": [
    "def add(a, b):\n",
    "    return a + b\n",
    "\n",
    "def merge(func):\n",
    "    return func\n",
    "\n",
    "k = merge(add)\n",
    "type(k)b"
   ]
  },
  {
   "cell_type": "code",
   "execution_count": 4,
   "id": "1ae14f98",
   "metadata": {},
   "outputs": [
    {
     "data": {
      "text/plain": [
       "3"
      ]
     },
     "execution_count": 4,
     "metadata": {},
     "output_type": "execute_result"
    }
   ],
   "source": [
    "k(1,2)"
   ]
  },
  {
   "cell_type": "code",
   "execution_count": 5,
   "id": "2154f176",
   "metadata": {},
   "outputs": [],
   "source": [
    "def print_function_name(func):\n",
    "    msg = func.__qualname__\n",
    "    def wrapper():\n",
    "        print(f'{msg} is called')\n",
    "        return func() \n",
    "    return wrapper\n",
    "\n",
    "\n",
    "def send_message():\n",
    "    return \"sent\"\n",
    "\n",
    "def receive_message():\n",
    "    return \"received\"\n",
    "\n",
    "send_message = print_function_name(send_message)\n",
    "receive_message = print_function_name(receive_message)\n",
    "\n"
   ]
  },
  {
   "cell_type": "code",
   "execution_count": 6,
   "id": "55757e20",
   "metadata": {},
   "outputs": [
    {
     "name": "stdout",
     "output_type": "stream",
     "text": [
      "send_message is called\n",
      "sent\n"
     ]
    }
   ],
   "source": [
    "#print(send_message)\n",
    "print(send_message())\n"
   ]
  },
  {
   "cell_type": "markdown",
   "id": "2bab82d7",
   "metadata": {},
   "source": [
    "## Decroates with Decorator @\n",
    "\n",
    "* The nested function `print_function_name` can be used as a decorator using `@`\n",
    "* The code become more neat and clean\n"
   ]
  },
  {
   "cell_type": "code",
   "execution_count": 27,
   "id": "3dd3b50e",
   "metadata": {},
   "outputs": [],
   "source": [
    "def print_function_name(func):\n",
    "    msg = func.__qualname__\n",
    "    count = 0\n",
    "    def wrapper(*args, **kargs):\n",
    "        nonlocal count \n",
    "        count += 1\n",
    "        print(f'{msg} {count}is called')\n",
    "        \n",
    "        k = func()\n",
    "        return k \n",
    "    return wrapper\n",
    "\n",
    "\n",
    "\n",
    "\n"
   ]
  },
  {
   "cell_type": "code",
   "execution_count": 29,
   "id": "a3cf93c5",
   "metadata": {},
   "outputs": [],
   "source": [
    "@print_function_name\n",
    "def chennaipy():\n",
    "    return \"sent\"\n",
    "\n",
    "@print_function_name\n",
    "def receive_message():\n",
    "    return \"received\""
   ]
  },
  {
   "cell_type": "code",
   "execution_count": 30,
   "id": "8598dd32",
   "metadata": {},
   "outputs": [
    {
     "name": "stdout",
     "output_type": "stream",
     "text": [
      "chennaipy 1is called\n",
      "chennaipy 2is called\n"
     ]
    },
    {
     "data": {
      "text/plain": [
       "'sent'"
      ]
     },
     "execution_count": 30,
     "metadata": {},
     "output_type": "execute_result"
    }
   ],
   "source": [
    "chennaipy()\n",
    "chennaipy()"
   ]
  },
  {
   "cell_type": "markdown",
   "id": "c2e6e227",
   "metadata": {},
   "source": [
    "## Let say we want to disable the print"
   ]
  },
  {
   "cell_type": "code",
   "execution_count": 16,
   "id": "0c7dc32a",
   "metadata": {},
   "outputs": [],
   "source": [
    "import os\n",
    "os.environ[\"enable_print\"]=\"enable_print\""
   ]
  },
  {
   "cell_type": "code",
   "execution_count": 18,
   "id": "111ab883",
   "metadata": {},
   "outputs": [],
   "source": [
    "def print_function_name(func):\n",
    "    if \"enable_print\" not in os.environ:\n",
    "        return func\n",
    "    msg = func.__qualname__\n",
    "    def wrapper():\n",
    "        print(f'{msg} is called')\n",
    "        return func() \n",
    "    return wrapper"
   ]
  },
  {
   "cell_type": "code",
   "execution_count": 19,
   "id": "6f64da6b",
   "metadata": {},
   "outputs": [],
   "source": [
    "@print_function_name\n",
    "def send_message():\n",
    "    return \"sent\"\n",
    "\n",
    "@print_function_name\n",
    "def receive_message():\n",
    "    return \"received\""
   ]
  },
  {
   "cell_type": "code",
   "execution_count": 20,
   "id": "a66b01a8",
   "metadata": {},
   "outputs": [
    {
     "name": "stdout",
     "output_type": "stream",
     "text": [
      "send_message is called\n"
     ]
    },
    {
     "data": {
      "text/plain": [
       "'sent'"
      ]
     },
     "execution_count": 20,
     "metadata": {},
     "output_type": "execute_result"
    }
   ],
   "source": [
    "send_message()\n"
   ]
  },
  {
   "cell_type": "code",
   "execution_count": 21,
   "id": "dd401c8a",
   "metadata": {},
   "outputs": [
    {
     "data": {
      "text/plain": [
       "True"
      ]
     },
     "execution_count": 21,
     "metadata": {},
     "output_type": "execute_result"
    }
   ],
   "source": [
    "'enable_print' in os.environ\n"
   ]
  },
  {
   "cell_type": "markdown",
   "id": "f9633375",
   "metadata": {},
   "source": [
    "# Recap\n",
    "\n",
    "* We created a simple function\n",
    "* We created function which have a print statment which prints when ever the function called.\n",
    "* We removed print from each function and created nested function.\n",
    "* Then we used `@` symbol to call the function as decorator make the code more readable."
   ]
  },
  {
   "cell_type": "markdown",
   "id": "72a289e0",
   "metadata": {},
   "source": [
    "## Credits\n",
    "\n",
    "* Python Cook Book by David Beazley -- The concepts I learnt from the book and slides of Metaprogramming\n",
    "* I just modified with different function name. "
   ]
  }
 ],
 "metadata": {
  "kernelspec": {
   "display_name": "Python 3 (ipykernel)",
   "language": "python",
   "name": "python3"
  },
  "language_info": {
   "codemirror_mode": {
    "name": "ipython",
    "version": 3
   },
   "file_extension": ".py",
   "mimetype": "text/x-python",
   "name": "python",
   "nbconvert_exporter": "python",
   "pygments_lexer": "ipython3",
   "version": "3.9.2"
  }
 },
 "nbformat": 4,
 "nbformat_minor": 5
}
