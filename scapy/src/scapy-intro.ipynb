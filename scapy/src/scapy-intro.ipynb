{
 "cells": [
  {
   "cell_type": "markdown",
   "id": "b32bf991",
   "metadata": {},
   "source": [
    "# Introduction to Scapy"
   ]
  },
  {
   "cell_type": "markdown",
   "id": "64266d7b",
   "metadata": {},
   "source": [
    "## About Scapy\n",
    "Scapy is a framework which provides library to sniff packets. It also useful to create or manipulate packets.\n"
   ]
  },
  {
   "cell_type": "markdown",
   "id": "a54599a0",
   "metadata": {},
   "source": [
    "## Basic networking\n",
    "\n",
    "```\n",
    "7. Application\n",
    "6. Presentation\n",
    "5. Session\n",
    "4. TCP\n",
    "3. Network\n",
    "2. Data link\n",
    "1. physical \n",
    "```"
   ]
  },
  {
   "cell_type": "markdown",
   "id": "aa65143e",
   "metadata": {},
   "source": [
    "## Flow\n",
    "\n",
    "When a http request sent to a server\n",
    "1. DNS resovle\n",
    "2. TCP connection established (TCP SYN)\n",
    "3. SSL handshake\n",
    "    1. client hello\n",
    "    2. Server hello with certificate\n",
    "    3. client \n",
    "4. Application data transfer\n",
    "5. Connection close (TCP FYN)\n"
   ]
  },
  {
   "cell_type": "markdown",
   "id": "a320de1f",
   "metadata": {},
   "source": [
    "## Let us try this using Scapy\n",
    "1. Start the `scapy` `sniffer` in the background\n",
    "2. We are going to access this websites `https://icanhazip.com/`\n",
    "3. Once the request completes we are going to see what are all the packets it captured and try understand the network flows\n"
   ]
  },
  {
   "cell_type": "code",
   "execution_count": 1,
   "id": "a6ac899f",
   "metadata": {},
   "outputs": [],
   "source": [
    "## Import scapy\n",
    "\n",
    "from scapy.all import *\n",
    "\n"
   ]
  },
  {
   "cell_type": "code",
   "execution_count": 2,
   "id": "64955919",
   "metadata": {},
   "outputs": [],
   "source": [
    "## Capture using sniff\n",
    "\n",
    "packets = sniff(timeout = 10)"
   ]
  },
  {
   "cell_type": "code",
   "execution_count": 6,
   "id": "2d0bde84",
   "metadata": {},
   "outputs": [
    {
     "ename": "SyntaxError",
     "evalue": "unexpected EOF while parsing (546222826.py, line 7)",
     "output_type": "error",
     "traceback": [
      "\u001b[0;36m  Cell \u001b[0;32mIn[6], line 7\u001b[0;36m\u001b[0m\n\u001b[0;31m    \u001b[0m\n\u001b[0m    ^\u001b[0m\n\u001b[0;31mSyntaxError\u001b[0m\u001b[0;31m:\u001b[0m unexpected EOF while parsing\n"
     ]
    }
   ],
   "source": [
    "## Print the summary of packets\n",
    "\n",
    "#packets.summary()\n",
    "for packet in packets():\n",
    "    if packet.haslayer('TCP'):\n",
    "        print(packet.summary()\n",
    "              "
   ]
  },
  {
   "cell_type": "code",
   "execution_count": 9,
   "id": "a7414323",
   "metadata": {},
   "outputs": [
    {
     "name": "stdout",
     "output_type": "stream",
     "text": [
      "Ether / IPv6 / TCP 2401:4900:7b8c:25b6:be36:ee6a:9894:8d05:51566 > 2a04:4e42:59::347:https A\n",
      "Ether / IPv6 / TCP 2a04:4e42:59::347:https > 2401:4900:7b8c:25b6:be36:ee6a:9894:8d05:51566 A\n"
     ]
    }
   ],
   "source": [
    "for packet in packets:\n",
    "    if packet.haslayer('TCP'):\n",
    "        print(packet.summary())"
   ]
  },
  {
   "cell_type": "code",
   "execution_count": 10,
   "id": "0e33bdfd",
   "metadata": {},
   "outputs": [],
   "source": [
    "wrpcap(\"captured_file_v3.pcap\", packets)"
   ]
  },
  {
   "cell_type": "code",
   "execution_count": null,
   "id": "b0174af7",
   "metadata": {},
   "outputs": [],
   "source": [
    "def process_packet(packet):\n",
    "    if TCP in packet:\n",
    "        flags = packet[TCP].flags\n",
    "        if flags == \"SA\" or flags == \"S\" or flags == \"A\" or flags == \"F\" or flags == \"FA\" or flags == \"A\":\n",
    "            print(f\"Source IP: {packet[IP].src}, Destination IP: {packet[IP].dst}\")\n",
    "            print(f\"Source Port: {packet[TCP].sport}, Destination Port: {packet[TCP].dport}\")\n",
    "            print(f\"Flags: {packet[TCP].flags}\")\n",
    "        \n",
    "        \n",
    "read_pk = rdpcap('captured_file_v2.pcap')\n",
    "\n",
    "for packet in read_pk:\n",
    "    process_packet(packet)\n"
   ]
  },
  {
   "cell_type": "markdown",
   "id": "3aadc705",
   "metadata": {},
   "source": [
    "## Reference\n",
    "1. https://nmap.org/book/tcpip-ref.html"
   ]
  }
 ],
 "metadata": {
  "kernelspec": {
   "display_name": "myenv",
   "language": "python",
   "name": "myenv"
  },
  "language_info": {
   "codemirror_mode": {
    "name": "ipython",
    "version": 3
   },
   "file_extension": ".py",
   "mimetype": "text/x-python",
   "name": "python",
   "nbconvert_exporter": "python",
   "pygments_lexer": "ipython3",
   "version": "3.9.2"
  }
 },
 "nbformat": 4,
 "nbformat_minor": 5
}
