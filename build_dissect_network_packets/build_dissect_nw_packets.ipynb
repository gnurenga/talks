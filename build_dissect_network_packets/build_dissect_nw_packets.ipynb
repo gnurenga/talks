{
 "cells": [
  {
   "cell_type": "markdown",
   "id": "71a3e000-4e7d-47b3-80c1-b2c859fac48d",
   "metadata": {},
   "source": [
    "# Build Dissect Network Packets"
   ]
  },
  {
   "cell_type": "markdown",
   "id": "6dd1efe0-d1e5-4737-88d3-04e29df68d1c",
   "metadata": {},
   "source": [
    "# What is a Computer Network ?\n",
    "\n",
    "* A computer network is nothing but one or multiple connection between more than one computer\n",
    "  * It can be wired or wireless\n"
   ]
  },
  {
   "cell_type": "markdown",
   "id": "a726d91e-0d4e-4426-91c7-1f81d4d49c53",
   "metadata": {},
   "source": [
    "# Network packet or network frame\n",
    "\n",
    "We generally comeacross two terminology packet and frame.\n",
    "\n",
    "I would say for simplicity we can use Packet as a name.\n",
    "\n",
    "But as per computer network \n",
    "- A Network frame is layer 2 packet\n",
    "- A Network packet is layer 3 packet\n",
    "- TCP header actually called as segments\n",
    "  - (layer 5, 6, 7) (Application layers)"
   ]
  },
  {
   "cell_type": "markdown",
   "id": "139edc96-ae77-4d46-aedb-187b18c60943",
   "metadata": {},
   "source": [
    "# Lets create a Mental Model of Layers Before Jump in to Scapy"
   ]
  },
  {
   "cell_type": "raw",
   "id": "15d6541e-1a2c-4a4b-aeaa-ebe00e0b60f4",
   "metadata": {},
   "source": [
    "# Let us visualise layers\n",
    "\n",
    "TCP_Flow:\n",
    "  Ethernet_Frame:        \n",
    "    Layer: 2\n",
    "    Payload:\n",
    "      IP_Packet:         \n",
    "        Layer: 3\n",
    "        Protocol: TCP\n",
    "        Payload:\n",
    "          TCP_Segment:   \n",
    "            Layer: 4\n",
    "            Payload:\n",
    "              HTTP_Request:  # Layers 5/6/7\n",
    "                Layers: [5, 6, 7]\n",
    "                Application_Protocol: HTTP\n",
    "                Description: \"Application-layer data (e.g., GET /index.html)\"\n",
    "\n",
    "UDP_Flow:\n",
    "  Ethernet_Frame:        \n",
    "    Layer: 2\n",
    "    Payload:\n",
    "      IP_Packet:         \n",
    "        Layer: 3\n",
    "        Protocol: UDP\n",
    "        Payload:\n",
    "          UDP_Datagram:  \n",
    "            Layer: 4\n",
    "            Payload:\n",
    "              DNS_Request:  \n",
    "                Layers: [5, 6, 7]\n",
    "                Application_Protocol: DNS\n",
    "                Description: \"Application-layer data (e.g., domain name query)\""
   ]
  },
  {
   "cell_type": "markdown",
   "id": "ef6da1ea-c383-4791-8d5c-7f113ca8ae08",
   "metadata": {},
   "source": [
    "# Let us Jump in to the actual agenda today"
   ]
  },
  {
   "cell_type": "markdown",
   "id": "7de02ef1-ea81-42ea-b796-1eed371fb9cd",
   "metadata": {},
   "source": [
    "# Why Scapy ?\n",
    "\n",
    "  * Its a powerfull framework to sniff, send, dissect or create network packets.\n",
    "  * We can use this for scanning, sending probe requests or Simulating network attacks.\n",
    "  * Scapy is more powerfull than other tools available for networking.\n",
    "\n",
    "\n"
   ]
  },
  {
   "cell_type": "markdown",
   "id": "217b5817-bc67-41c0-bdff-7b955052688d",
   "metadata": {},
   "source": [
    "# Creating and modifying a packet"
   ]
  },
  {
   "cell_type": "code",
   "execution_count": 9,
   "id": "abeaed7d-fe33-44a1-becc-3ee985fc19a0",
   "metadata": {},
   "outputs": [],
   "source": [
    "from scapy.all import *\n",
    "target = \"www.example.com\""
   ]
  },
  {
   "cell_type": "code",
   "execution_count": 10,
   "id": "9edfaaec-6aec-4e4c-ada0-35671b510466",
   "metadata": {},
   "outputs": [],
   "source": [
    "packet = Ether()/IP(dst = target)/TCP()"
   ]
  },
  {
   "cell_type": "code",
   "execution_count": 12,
   "id": "080f76ad-dab7-41c7-9eba-b1281cec4dd2",
   "metadata": {},
   "outputs": [
    {
     "data": {
      "text/plain": [
       "'Ether / IP / TCP 192.168.0.163:ftp_data > Net(\"www.example.com/32\"):http S'"
      ]
     },
     "execution_count": 12,
     "metadata": {},
     "output_type": "execute_result"
    }
   ],
   "source": [
    "packet.summary()"
   ]
  },
  {
   "cell_type": "code",
   "execution_count": 13,
   "id": "44cf32f6-3e95-4ee8-a89f-823859fe436c",
   "metadata": {},
   "outputs": [
    {
     "name": "stdout",
     "output_type": "stream",
     "text": [
      "###[ Ethernet ]###\n",
      "  dst       = None\n",
      "  src       = 48:89:e7:34:ee:82\n",
      "  type      = IPv4\n",
      "###[ IP ]###\n",
      "     version   = 4\n",
      "     ihl       = None\n",
      "     tos       = 0x0\n",
      "     len       = None\n",
      "     id        = 1\n",
      "     flags     = \n",
      "     frag      = 0\n",
      "     ttl       = 64\n",
      "     proto     = tcp\n",
      "     chksum    = None\n",
      "     src       = 192.168.0.163\n",
      "     dst       = Net(\"www.example.com/32\")\n",
      "     \\options   \\\n",
      "###[ TCP ]###\n",
      "        sport     = ftp_data\n",
      "        dport     = http\n",
      "        seq       = 0\n",
      "        ack       = 0\n",
      "        dataofs   = None\n",
      "        reserved  = 0\n",
      "        flags     = S\n",
      "        window    = 8192\n",
      "        chksum    = None\n",
      "        urgptr    = 0\n",
      "        options   = []\n",
      "\n"
     ]
    }
   ],
   "source": [
    "packet.show()"
   ]
  },
  {
   "cell_type": "code",
   "execution_count": 25,
   "id": "c911b9ba-c4ea-4c0e-b708-e150d2007e72",
   "metadata": {},
   "outputs": [
    {
     "name": "stdout",
     "output_type": "stream",
     "text": [
      "Ether / IP / TCP 127.0.0.1:ftp_data > 127.0.0.1:ssh S\n",
      "Ether / IP / TCP 127.0.0.1:ftp_data > 127.0.0.1:http S\n",
      "Ether / IP / TCP 127.0.0.1:ftp_data > 127.0.0.1:https S\n"
     ]
    }
   ],
   "source": [
    "# Let us use for loop and build packets \n",
    "for packet in Ether()/IP()/TCP(dport = [22, 80, 443]):\n",
    "    print(packet.summary())"
   ]
  },
  {
   "cell_type": "code",
   "execution_count": 26,
   "id": "9d2bcfd1-c900-4d64-8f5f-a2951083caec",
   "metadata": {},
   "outputs": [],
   "source": [
    "def print_frame_ether(frame):\n",
    "    return frame[Ether].src\n",
    "    "
   ]
  },
  {
   "cell_type": "code",
   "execution_count": 29,
   "id": "91f69f8c-8be0-43e9-ae55-b7298ce7e930",
   "metadata": {},
   "outputs": [
    {
     "data": {
      "text/plain": [
       "['lo', 'enp4s0', 'wlp5s0', 'docker0']"
      ]
     },
     "execution_count": 29,
     "metadata": {},
     "output_type": "execute_result"
    }
   ],
   "source": [
    "system_interfaces = get_if_list()\n"
   ]
  },
  {
   "cell_type": "code",
   "execution_count": 30,
   "id": "4308491b-13e0-4246-b861-070544503aa1",
   "metadata": {},
   "outputs": [],
   "source": [
    "src_address = get_if_hwaddr(\"wlp5s0\")\n",
    "\n",
    "frame = Ether(src=src_address)/IP()/TCP(dport = [22, 80, 443])"
   ]
  },
  {
   "cell_type": "code",
   "execution_count": 31,
   "id": "4814a9f7-7cc6-435d-86c8-1914d289502c",
   "metadata": {},
   "outputs": [
    {
     "data": {
      "text/plain": [
       "'48:89:e7:34:ee:82'"
      ]
     },
     "execution_count": 31,
     "metadata": {},
     "output_type": "execute_result"
    }
   ],
   "source": [
    "print_frame_ether(frame)"
   ]
  },
  {
   "cell_type": "markdown",
   "id": "71277366-bcd2-43be-817b-33a404682534",
   "metadata": {},
   "source": [
    "# How to Sniff packet (capture packets) ?"
   ]
  },
  {
   "cell_type": "code",
   "execution_count": 45,
   "id": "5cd281c9-5d4b-4999-82ec-0ec52fa22635",
   "metadata": {},
   "outputs": [],
   "source": [
    "packets = sniff(count = 5, filter = \"arp\")"
   ]
  },
  {
   "cell_type": "code",
   "execution_count": 46,
   "id": "e0e1fcd0-d692-4480-b8b6-a5112f5673d3",
   "metadata": {},
   "outputs": [
    {
     "name": "stdout",
     "output_type": "stream",
     "text": [
      "Ether / ARP who has 192.168.0.163 says 192.168.0.1 / Padding\n",
      "Ether / ARP is at 48:89:e7:34:ee:82 says 192.168.0.163\n",
      "Ether / ARP who has 192.168.0.163 says 192.168.0.1 / Padding\n",
      "Ether / ARP is at 48:89:e7:34:ee:82 says 192.168.0.163\n",
      "Ether / ARP who has 192.168.0.163 says 192.168.0.1 / Padding\n"
     ]
    }
   ],
   "source": [
    "packets.summary()"
   ]
  },
  {
   "cell_type": "code",
   "execution_count": 47,
   "id": "6f990311-80e0-4252-b3f5-dead14f1e847",
   "metadata": {},
   "outputs": [
    {
     "data": {
      "text/plain": [
       "<Ether  dst=48:89:e7:34:ee:82 src=50:0f:f5:31:16:f0 type=ARP |<ARP  hwtype=Ethernet (10Mb) ptype=IPv4 hwlen=6 plen=4 op=who-has hwsrc=50:0f:f5:31:16:f0 psrc=192.168.0.1 hwdst=00:00:00:00:00:00 pdst=192.168.0.163 |<Padding  load=b'\\x00\\x00\\x00\\x00\\x00\\x00\\x00\\x00\\x00\\x00\\x00\\x00\\x00\\x00\\x00\\x00\\x00\\x00' |>>>"
      ]
     },
     "execution_count": 47,
     "metadata": {},
     "output_type": "execute_result"
    }
   ],
   "source": [
    "packets[0]"
   ]
  },
  {
   "cell_type": "markdown",
   "id": "a925ec73-3298-4d23-954b-b1289e5e7e41",
   "metadata": {},
   "source": [
    "## So Far\n",
    "\n",
    "- Brushed up some basics of Networking\n",
    "- Built layers\n",
    "- Print the packets\n",
    "- Capture packets\n",
    "\n",
    "## You havent shown us how to send the packet ? \n",
    "\n",
    "## Let us jump in little more depth Behind Everyday use of Internet "
   ]
  },
  {
   "cell_type": "markdown",
   "id": "06e98e16-03a5-4f90-a6ee-1e2d8a6bee0f",
   "metadata": {},
   "source": [
    "# What will happen when we try to browse a website ?"
   ]
  },
  {
   "cell_type": "markdown",
   "id": "7a70e233-1bf2-4ccd-a4c8-3b33f4611e66",
   "metadata": {},
   "source": [
    "![Http Request and Response](httpreq.png)"
   ]
  },
  {
   "cell_type": "markdown",
   "id": "b6179f6a-8d92-42c8-a005-33ee1d87d13d",
   "metadata": {},
   "source": [
    "# Packet capture above request"
   ]
  },
  {
   "cell_type": "markdown",
   "id": "3d9e0f25-64dc-4f10-af81-cd2ee6e3036c",
   "metadata": {},
   "source": [
    "![Pcap](http_pcap.png)"
   ]
  },
  {
   "cell_type": "markdown",
   "id": "eba3da66-5d8a-42fb-a2c9-6ae65b6c82e2",
   "metadata": {},
   "source": [
    "# The interesting part\n",
    "\n",
    "When we try to send a http request,\n",
    "- Browser send DNS request to fetch the ip of the domain in order to establish TCP Connection for HTTP request\n",
    "\n",
    "DNS is the dependency for http request,\n",
    "  - Why dont we talk directly to the Server ?\n",
    "  - When the Browser use DNS ?\n",
    "\n",
    "\n"
   ]
  },
  {
   "cell_type": "markdown",
   "id": "19a6ab3c-f431-44fe-a735-b6ef12247a6d",
   "metadata": {},
   "source": [
    "## What is clear now ?\n",
    "\n",
    "- HTTP traffic is not just\n",
    "  - Request and Response\n",
    "\n",
    "* DNS --> TCP(SYN) --> TCP(SYN-ACK) --> TCP(ACK) --> HTTP(get) -->TCP(ACK) --> HTTP(Response)   \n",
    "\n",
    "* --> TCP(ACK) --> TCP(FIN,ACK) --> TCP(FIN,ACK) --> TCP(ACK)\n"
   ]
  },
  {
   "cell_type": "markdown",
   "id": "4f4d51a0-97ac-40e4-8d75-bd806b341480",
   "metadata": {},
   "source": [
    "## Let us Jump in Send DNS request"
   ]
  },
  {
   "cell_type": "code",
   "execution_count": 72,
   "id": "dd20153e-b2a7-4b92-b918-830d37b5b780",
   "metadata": {},
   "outputs": [
    {
     "name": "stdout",
     "output_type": "stream",
     "text": [
      "[+] icanhazip.com resolved to 104.16.185.241\n"
     ]
    }
   ],
   "source": [
    "domain = \"icanhazip.com\"\n",
    "dport = 80\n",
    "sport = RandShort()\n",
    "iface = None # if you want to sepcify interface\n",
    "\n",
    "dns_resp = sr1(IP(dst=\"8.8.8.8\")/UDP(dport=53)/DNS(rd=1, qd=DNSQR(qname=domain)), verbose=0)\n",
    "dst_ip = dns_resp[DNS].an.rdata\n",
    "print(f\"[+] {domain} resolved to {dst_ip}\")"
   ]
  },
  {
   "cell_type": "raw",
   "id": "8d3a5c9c-1901-4ac4-a13a-44cb0cdec1b8",
   "metadata": {},
   "source": [
    "### Let us have more clear flow\n",
    "Client                           DNS Server (Resolver)\n",
    "   |                                      |\n",
    "   | --- UDP DNS Query -----------------> |   \n",
    "   |                                      |\n",
    "   | <--- UDP DNS Response -------------- |    Answer: dst_ip\n",
    "   |                                      |\n",
    "\n",
    "\n",
    "\n"
   ]
  },
  {
   "cell_type": "markdown",
   "id": "32d384cf-87f9-4b8a-93ca-6c534c2c32b8",
   "metadata": {},
   "source": [
    "## We got the Destination Let us create 3 TCP packets"
   ]
  },
  {
   "cell_type": "raw",
   "id": "13ec5468-6e4a-4504-9914-eb316d9fa2d7",
   "metadata": {},
   "source": [
    "### Let us have more clear flow\n",
    "\n",
    "Client                              Server\n",
    "  | --- SYN -----------------------> |\n",
    "  | <--- SYN-ACK ------------------  |     [TCP handshake]\n",
    "  | --- ACK -----------------------> |\n",
    "  | --- HTTP GET ------------------> |\n",
    "  | <--- ACK ----------------------  |     [TCP ACK for GET]\n",
    "  | <--- HTTP 200 OK + HTML -------- |\n",
    "  | --- ACK -----------------------> |\n",
    "            [optional FIN teardown]"
   ]
  },
  {
   "cell_type": "code",
   "execution_count": 73,
   "id": "19f6c2d3-0128-480d-a6d9-75bb2c12989a",
   "metadata": {},
   "outputs": [
    {
     "name": "stdout",
     "output_type": "stream",
     "text": [
      "1004061854\n",
      "[+] TCP handshake complete\n"
     ]
    }
   ],
   "source": [
    "ip = IP(dst=dst_ip)\n",
    "syn = TCP(sport=sport, dport=dport, flags=\"S\", seq=1000)\n",
    "syn_ack = sr1(ip/syn, timeout=2, verbose=0)\n",
    "print(syn_ack.seq)\n",
    "if not syn_ack or syn_ack[TCP].flags != \"SA\":\n",
    "    print(\"[-] SYN-ACK failed\")\n",
    "    exit()\n",
    "\n",
    "ack = TCP(sport=sport, dport=dport, flags=\"A\", seq=syn_ack.ack, ack=syn_ack.seq + 1)\n",
    "send(ip/ack, verbose=0)\n",
    "print(\"[+] TCP handshake complete\")"
   ]
  },
  {
   "cell_type": "code",
   "execution_count": 74,
   "id": "48a861ce-b30c-427a-a720-1fd4de395b7c",
   "metadata": {},
   "outputs": [
    {
     "name": "stdout",
     "output_type": "stream",
     "text": [
      "[+] HTTP GET sent\n"
     ]
    }
   ],
   "source": [
    "http_get = f\"GET / HTTP/1.1\\r\\nHost: {domain}\\r\\nUser-Agent: Scapy\\r\\nConnection: close\\r\\n\\r\\n\"\n",
    "get_pkt = TCP(sport=sport, dport=dport, flags=\"PA\", seq=ack.seq, ack=ack.ack)\n",
    "send(ip/get_pkt/http_get, verbose=0)\n",
    "\n",
    "print(\"[+] HTTP GET sent\")\n",
    "\n",
    "# I still need to build (I have to stop because of TCP RST sent by the kernel)"
   ]
  },
  {
   "cell_type": "markdown",
   "id": "27b2d77a-deb6-4a41-8b4e-14819e9d563e",
   "metadata": {},
   "source": [
    "# I am going to Stop Here"
   ]
  },
  {
   "cell_type": "markdown",
   "id": "1c678cbe-da50-423c-aa39-02ae6fd671a9",
   "metadata": {},
   "source": [
    "# Questions ?"
   ]
  },
  {
   "cell_type": "markdown",
   "id": "05d959c0-5c56-49db-a631-88b882396cd0",
   "metadata": {},
   "source": [
    "# Thank you"
   ]
  },
  {
   "cell_type": "markdown",
   "id": "c70d02eb-3fb7-4289-a6ac-564b39e40d73",
   "metadata": {},
   "source": [
    "# Credits\n",
    "\n",
    "* Chennaipy \n",
    "* Vijay and Shrayas \n",
    "* Scapy Documnetation and Tutorials\n"
   ]
  }
 ],
 "metadata": {
  "kernelspec": {
   "display_name": "myenv",
   "language": "python",
   "name": "myenv"
  },
  "language_info": {
   "codemirror_mode": {
    "name": "ipython",
    "version": 3
   },
   "file_extension": ".py",
   "mimetype": "text/x-python",
   "name": "python",
   "nbconvert_exporter": "python",
   "pygments_lexer": "ipython3",
   "version": "3.9.2"
  }
 },
 "nbformat": 4,
 "nbformat_minor": 5
}
